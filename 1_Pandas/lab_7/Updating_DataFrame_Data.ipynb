{
 "cells": [
  {
   "cell_type": "markdown",
   "metadata": {},
   "source": [
    "# Updating DataFrame Data\n",
    "1. Run the cell below to setup a DataFrame of client data"
   ]
  },
  {
   "cell_type": "code",
   "execution_count": null,
   "metadata": {},
   "outputs": [],
   "source": [
    "import pandas as pd\n",
    "data = {'first': ['Carl', 'Francis', 'Sam'],\n",
    "        'last':  ['Po',   'Nyguen',  'Smith'],\n",
    "        'age':   ['32',   '45',      '22'],\n",
    "        'CH_count':[12,  14, 39]}\n",
    "clients = pd.DataFrame(data)\n",
    "clients"
   ]
  },
  {
   "cell_type": "markdown",
   "metadata": {},
   "source": [
    "2. Run the cell below to create a DataFrame with additional clients"
   ]
  },
  {
   "cell_type": "code",
   "execution_count": null,
   "metadata": {},
   "outputs": [],
   "source": [
    "new_data = {'first':['Sue', 'Boya'],\n",
    "            'last':['Rankler', 'Maple'],\n",
    "            'age':[93, 12],\n",
    "            'CH_count':[22, 1]}\n",
    "new_clients = pd.DataFrame(new_data)\n",
    "new_clients"
   ]
  },
  {
   "cell_type": "markdown",
   "metadata": {},
   "source": [
    "3. Use the DataFrame `.append()` method to add the new clients."
   ]
  },
  {
   "cell_type": "code",
   "execution_count": null,
   "metadata": {},
   "outputs": [],
   "source": [
    "clients."
   ]
  },
  {
   "cell_type": "markdown",
   "metadata": {},
   "source": [
    "4. Set the age of the first client to 33 by using `.loc[]` to select row 0, column 'age'."
   ]
  },
  {
   "cell_type": "code",
   "execution_count": null,
   "metadata": {},
   "outputs": [],
   "source": [
    "clients.         = 33\n",
    "clients"
   ]
  },
  {
   "cell_type": "markdown",
   "metadata": {},
   "source": [
    "5. Set the value of all rows in the column 'CH_count' to -1"
   ]
  },
  {
   "cell_type": "code",
   "execution_count": null,
   "metadata": {},
   "outputs": [],
   "source": [
    "clients.\n",
    "clients"
   ]
  },
  {
   "cell_type": "markdown",
   "metadata": {},
   "source": [
    "6. Use `+=` to add 1 to all rows of 'CH_count'"
   ]
  },
  {
   "cell_type": "code",
   "execution_count": null,
   "metadata": {},
   "outputs": [],
   "source": [
    "clients.\n",
    "clients"
   ]
  },
  {
   "cell_type": "markdown",
   "metadata": {},
   "source": [
    "7. Use the DataFrame `.replace()` method with the arguments `0, 99` to replace all 0 values in the DataFrame with 99."
   ]
  },
  {
   "cell_type": "code",
   "execution_count": null,
   "metadata": {},
   "outputs": [],
   "source": []
  }
 ],
 "metadata": {
  "kernelspec": {
   "display_name": "Python 3",
   "language": "python",
   "name": "python3"
  },
  "language_info": {
   "codemirror_mode": {
    "name": "ipython",
    "version": 3
   },
   "file_extension": ".py",
   "mimetype": "text/x-python",
   "name": "python",
   "nbconvert_exporter": "python",
   "pygments_lexer": "ipython3",
   "version": "3.7.6"
  }
 },
 "nbformat": 4,
 "nbformat_minor": 4
}
